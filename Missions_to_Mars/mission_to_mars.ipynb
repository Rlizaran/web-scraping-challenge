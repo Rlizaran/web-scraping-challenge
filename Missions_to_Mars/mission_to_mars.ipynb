{
 "cells": [
  {
   "cell_type": "code",
   "execution_count": 1,
   "id": "b3027339-dc25-48bd-b362-05763e6e43a4",
   "metadata": {},
   "outputs": [],
   "source": [
    "from splinter import Browser\n",
    "from bs4 import BeautifulSoup as bs\n",
    "import time\n",
    "from webdriver_manager.chrome import ChromeDriverManager\n",
    "import pandas as pd\n",
    "from pprint import pprint"
   ]
  },
  {
   "cell_type": "code",
   "execution_count": 2,
   "id": "620cc1a1-9c6c-48b0-ae29-979df7c50811",
   "metadata": {},
   "outputs": [],
   "source": [
    "# Visit each url\n",
    "url = \"https://redplanetscience.com/\"\n",
    "url1 = \"https://spaceimages-mars.com/\"\n",
    "url2 = \"https://galaxyfacts-mars.com/\"\n",
    "url3 = 'https://marshemispheres.com/'"
   ]
  },
  {
   "cell_type": "code",
   "execution_count": 3,
   "id": "ca16262c-4324-43fe-a253-536bb992724d",
   "metadata": {},
   "outputs": [
    {
     "name": "stderr",
     "output_type": "stream",
     "text": [
      "[WDM] - \n",
      "\n",
      "[WDM] - ====== WebDriver manager ======\n",
      "[WDM] - Current google-chrome version is 95.0.4638\n",
      "[WDM] - Get LATEST driver version for 95.0.4638\n",
      "[WDM] - Driver [C:\\Users\\Rodrigo\\.wdm\\drivers\\chromedriver\\win32\\95.0.4638.54\\chromedriver.exe] found in cache\n"
     ]
    }
   ],
   "source": [
    "# Set up Splinter\n",
    "executable_path = {'executable_path': ChromeDriverManager().install()}\n",
    "browser = Browser('chrome', **executable_path, headless=True)"
   ]
  },
  {
   "cell_type": "code",
   "execution_count": 4,
   "id": "09fa30d5-8067-4243-be64-841288e6cd3e",
   "metadata": {},
   "outputs": [],
   "source": [
    "# Scrape page news into Soup\n",
    "browser.visit(url)\n",
    "time.sleep(1)\n",
    "html = browser.html\n",
    "soup = bs(html, \"html.parser\")\n",
    "\n",
    "div = soup.find('div', {'class':'list_text'})\n",
    "title = div.find('div',{'class':'content_title'})\n",
    "article = div.find('div',{'class':'article_teaser_body'})\n",
    "\n",
    "news_title = title.text\n",
    "news_p = article.text"
   ]
  },
  {
   "cell_type": "code",
   "execution_count": 5,
   "id": "96defc49-615f-4013-8c19-8ceda3eba6d8",
   "metadata": {},
   "outputs": [
    {
     "name": "stdout",
     "output_type": "stream",
     "text": [
      "NASA's MAVEN Observes Martian Night Sky Pulsing in Ultraviolet Light\n",
      "Vast areas of the Martian night sky pulse in ultraviolet light, according to images from NASA’s MAVEN spacecraft. The results are being used to illuminate complex circulation patterns in the Martian atmosphere.\n"
     ]
    }
   ],
   "source": [
    "print(news_title)\n",
    "print(news_p)"
   ]
  },
  {
   "cell_type": "code",
   "execution_count": 6,
   "id": "79dcf7f7-6c71-4bc1-8667-b5c9246aae12",
   "metadata": {},
   "outputs": [],
   "source": [
    "# Scrape feature image\n",
    "browser.visit(url1)\n",
    "time.sleep(1)\n",
    "html = browser.html\n",
    "soup = bs(html, \"html.parser\")\n",
    "\n",
    "img = soup.find('img',{'class':'headerimage fade-in'})\n",
    "src = img['src']\n",
    "featured_image_url = url1+src"
   ]
  },
  {
   "cell_type": "code",
   "execution_count": 7,
   "id": "abbed12c-9495-4e35-bf23-dbad88c19f8e",
   "metadata": {},
   "outputs": [
    {
     "name": "stdout",
     "output_type": "stream",
     "text": [
      "https://spaceimages-mars.com/image/featured/mars2.jpg\n"
     ]
    }
   ],
   "source": [
    "print(featured_image_url)"
   ]
  },
  {
   "cell_type": "code",
   "execution_count": 8,
   "id": "d6f2bb3e-8da7-4a24-a325-c768adaa2443",
   "metadata": {},
   "outputs": [
    {
     "data": {
      "text/html": [
       "<div>\n",
       "<style scoped>\n",
       "    .dataframe tbody tr th:only-of-type {\n",
       "        vertical-align: middle;\n",
       "    }\n",
       "\n",
       "    .dataframe tbody tr th {\n",
       "        vertical-align: top;\n",
       "    }\n",
       "\n",
       "    .dataframe thead th {\n",
       "        text-align: right;\n",
       "    }\n",
       "</style>\n",
       "<table border=\"1\" class=\"dataframe\">\n",
       "  <thead>\n",
       "    <tr style=\"text-align: right;\">\n",
       "      <th></th>\n",
       "      <th>Description</th>\n",
       "      <th>Mars</th>\n",
       "      <th>Earth</th>\n",
       "    </tr>\n",
       "  </thead>\n",
       "  <tbody>\n",
       "    <tr>\n",
       "      <th>0</th>\n",
       "      <td>Mars - Earth Comparison</td>\n",
       "      <td>Mars</td>\n",
       "      <td>Earth</td>\n",
       "    </tr>\n",
       "    <tr>\n",
       "      <th>1</th>\n",
       "      <td>Diameter:</td>\n",
       "      <td>6,779 km</td>\n",
       "      <td>12,742 km</td>\n",
       "    </tr>\n",
       "    <tr>\n",
       "      <th>2</th>\n",
       "      <td>Mass:</td>\n",
       "      <td>6.39 × 10^23 kg</td>\n",
       "      <td>5.97 × 10^24 kg</td>\n",
       "    </tr>\n",
       "    <tr>\n",
       "      <th>3</th>\n",
       "      <td>Moons:</td>\n",
       "      <td>2</td>\n",
       "      <td>1</td>\n",
       "    </tr>\n",
       "    <tr>\n",
       "      <th>4</th>\n",
       "      <td>Distance from Sun:</td>\n",
       "      <td>227,943,824 km</td>\n",
       "      <td>149,598,262 km</td>\n",
       "    </tr>\n",
       "    <tr>\n",
       "      <th>5</th>\n",
       "      <td>Length of Year:</td>\n",
       "      <td>687 Earth days</td>\n",
       "      <td>365.24 days</td>\n",
       "    </tr>\n",
       "    <tr>\n",
       "      <th>6</th>\n",
       "      <td>Temperature:</td>\n",
       "      <td>-87 to -5 °C</td>\n",
       "      <td>-88 to 58°C</td>\n",
       "    </tr>\n",
       "  </tbody>\n",
       "</table>\n",
       "</div>"
      ],
      "text/plain": [
       "               Description             Mars            Earth\n",
       "0  Mars - Earth Comparison             Mars            Earth\n",
       "1                Diameter:         6,779 km        12,742 km\n",
       "2                    Mass:  6.39 × 10^23 kg  5.97 × 10^24 kg\n",
       "3                   Moons:                2                1\n",
       "4       Distance from Sun:   227,943,824 km   149,598,262 km\n",
       "5          Length of Year:   687 Earth days      365.24 days\n",
       "6             Temperature:     -87 to -5 °C      -88 to 58°C"
      ]
     },
     "execution_count": 8,
     "metadata": {},
     "output_type": "execute_result"
    }
   ],
   "source": [
    "# Scrape facts into pandas\n",
    "table = pd.read_html(url2)\n",
    "\n",
    "# Select mars facts table\n",
    "mars_df = table[0]\n",
    "mars_df = mars_df.rename(columns={0: 'Description', 1:'Mars', 2:'Earth'})\n",
    "\n",
    "mars_df"
   ]
  },
  {
   "cell_type": "code",
   "execution_count": 9,
   "id": "c219533c-baf9-4161-b6e8-870393c6d6bc",
   "metadata": {},
   "outputs": [
    {
     "name": "stdout",
     "output_type": "stream",
     "text": [
      "('<table border=\"1\" class=\"dataframe\">  <thead>    <tr style=\"text-align: '\n",
      " 'right;\">      <th>Description</th>      <th>Mars</th>      <th>Earth</th>    '\n",
      " '</tr>  </thead>  <tbody>    <tr>      <td>Mars - Earth Comparison</td>      '\n",
      " '<td>Mars</td>      <td>Earth</td>    </tr>    <tr>      '\n",
      " '<td>Diameter:</td>      <td>6,779 km</td>      <td>12,742 km</td>    '\n",
      " '</tr>    <tr>      <td>Mass:</td>      <td>6.39 × 10^23 kg</td>      '\n",
      " '<td>5.97 × 10^24 kg</td>    </tr>    <tr>      <td>Moons:</td>      '\n",
      " '<td>2</td>      <td>1</td>    </tr>    <tr>      <td>Distance from '\n",
      " 'Sun:</td>      <td>227,943,824 km</td>      <td>149,598,262 km</td>    '\n",
      " '</tr>    <tr>      <td>Length of Year:</td>      <td>687 Earth '\n",
      " 'days</td>      <td>365.24 days</td>    </tr>    <tr>      '\n",
      " '<td>Temperature:</td>      <td>-87 to -5 °C</td>      <td>-88 to '\n",
      " '58°C</td>    </tr>  </tbody></table>')\n"
     ]
    }
   ],
   "source": [
    "# Convert to html\n",
    "mars_table = mars_df.to_html(index=False)\n",
    "mars_table_clean = mars_table.replace('\\n', '')\n",
    "\n",
    "pprint(mars_table_clean)"
   ]
  },
  {
   "cell_type": "code",
   "execution_count": 10,
   "id": "b3a4439d-d4e0-4f28-a5c6-7954f9b00354",
   "metadata": {},
   "outputs": [],
   "source": [
    "# Scrape Hemispheres Images\n",
    "browser.visit(url3)\n",
    "time.sleep(1)\n",
    "html = browser.html\n",
    "soup = bs(html, \"html.parser\")"
   ]
  },
  {
   "cell_type": "code",
   "execution_count": 11,
   "id": "1cd12a70-eca2-4473-a60b-05cb33632553",
   "metadata": {},
   "outputs": [],
   "source": [
    "# Get images\n",
    "hemispheres = soup.find_all('div',{'class':'item'})\n",
    "hemisphere_image_url = []"
   ]
  },
  {
   "cell_type": "code",
   "execution_count": 12,
   "id": "3f4bbc4d-fe37-4ebc-87fa-7f74a5a77711",
   "metadata": {},
   "outputs": [],
   "source": [
    "for hemisphere in hemispheres:\n",
    "    hemisphere_dict = {}\n",
    "    \n",
    "    # Get title\n",
    "    hemisphere_title = hemisphere.find('h3').text\n",
    "    \n",
    "    # Clicking link for each title to get image\n",
    "    browser.links.find_by_partial_text(hemisphere_title).click()\n",
    "    html = browser.html\n",
    "    soup = bs(html, \"html.parser\")\n",
    "    \n",
    "    # Scrape image link\n",
    "    hemis_div = soup.find('div', {'class':'wide-image-wrapper'})\n",
    "    hemis_img = hemis_div.find('img',{'class':'wide-image'})['src']\n",
    "    hemis_url = url3 + hemis_img\n",
    "    \n",
    "    # Fill dictionary\n",
    "    hemisphere_dict['title'] = hemisphere_title\n",
    "    hemisphere_dict['url'] = hemis_url\n",
    "    \n",
    "    # Append to list\n",
    "    hemisphere_image_url.append(hemisphere_dict)\n",
    "    \n",
    "    #Set up browser to go back for each image\n",
    "    browser.back()"
   ]
  },
  {
   "cell_type": "code",
   "execution_count": 13,
   "id": "2ac67c10-d994-402f-9449-bfc99b3ace51",
   "metadata": {},
   "outputs": [
    {
     "name": "stdout",
     "output_type": "stream",
     "text": [
      "[{'title': 'Cerberus Hemisphere Enhanced', 'url': 'https://marshemispheres.com/images/f5e372a36edfa389625da6d0cc25d905_cerberus_enhanced.tif_full.jpg'}, {'title': 'Schiaparelli Hemisphere Enhanced', 'url': 'https://marshemispheres.com/images/3778f7b43bbbc89d6e3cfabb3613ba93_schiaparelli_enhanced.tif_full.jpg'}, {'title': 'Syrtis Major Hemisphere Enhanced', 'url': 'https://marshemispheres.com/images/555e6403a6ddd7ba16ddb0e471cadcf7_syrtis_major_enhanced.tif_full.jpg'}, {'title': 'Valles Marineris Hemisphere Enhanced', 'url': 'https://marshemispheres.com/images/b3c7c6c9138f57b4756be9b9c43e3a48_valles_marineris_enhanced.tif_full.jpg'}]\n"
     ]
    }
   ],
   "source": [
    "# Check hesmisphere_images_url\n",
    "print(hemisphere_image_url)"
   ]
  }
 ],
 "metadata": {
  "interpreter": {
   "hash": "dacb2657fcd5c5e7463469286d4fe5c67f0ba5871e6062ccaf0e5813f76b182b"
  },
  "kernelspec": {
   "display_name": "Python 3",
   "language": "python",
   "name": "python3"
  },
  "language_info": {
   "codemirror_mode": {
    "name": "ipython",
    "version": 3
   },
   "file_extension": ".py",
   "mimetype": "text/x-python",
   "name": "python",
   "nbconvert_exporter": "python",
   "pygments_lexer": "ipython3",
   "version": "3.8.8"
  }
 },
 "nbformat": 4,
 "nbformat_minor": 5
}
